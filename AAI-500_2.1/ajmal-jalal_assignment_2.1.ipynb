{
 "cells": [
  {
   "attachments": {},
   "cell_type": "markdown",
   "metadata": {},
   "source": [
    "# Assignment 2.1\n",
    "\n",
    "**Name:**  Ajmal Jalal\n",
    "\n",
    "**Date:**  09/15/2024"
   ]
  },
  {
   "attachments": {},
   "cell_type": "markdown",
   "metadata": {},
   "source": [
    "For this assignment, you will refer to the textbook to solve the practice exercises. **Use Python to answer any coding problems (not R, even if indicated in your textbook).** Use Jupyter Notebook, Google Colab, or a similar software program to complete your assignment. Submit your answers as a **PDF or HTML** file. As a best practice, always label your axes and provide titles for any graphs generated on this assignment. Round all quantitative answers to 2 decimal places."
   ]
  },
  {
   "attachments": {},
   "cell_type": "markdown",
   "metadata": {},
   "source": [
    "## Problem # 2.1."
   ]
  },
  {
   "attachments": {},
   "cell_type": "markdown",
   "metadata": {},
   "source": [
    "For the rain simulation example in Section 2.1.1, but with probability of rain 0.30 on any\n",
    "given day, simulate the outcome (a) on the next day, (b) the next 10 days. (c) Simulate the\n",
    "proportion of days of rain for the next (i) 100 days, (ii) 10,000 days, (iii) 1,000,000 days. Use\n",
    "the simulation to explain the long-run relative frequency definition of probability."
   ]
  },
  {
   "attachments": {},
   "cell_type": "markdown",
   "metadata": {},
   "source": [
    "`(a) The outcome for the next day`"
   ]
  },
  {
   "cell_type": "code",
   "execution_count": 63,
   "metadata": {},
   "outputs": [
    {
     "name": "stdout",
     "output_type": "stream",
     "text": [
      "The probability of rain for the next day is: 0\n"
     ]
    }
   ],
   "source": [
    "import numpy as np\n",
    "\n",
    "# Setting the probability of rain to 0.30 (30%)\n",
    "prob_rain = 0.30\n",
    "\n",
    "# Simulating the outcome for the next day\n",
    "next_day_rain = np.random.binomial(1, prob_rain, 1)\n",
    "print(f\"The probability of rain for the next day is: {next_day_rain[0]}\")"
   ]
  },
  {
   "attachments": {},
   "cell_type": "markdown",
   "metadata": {},
   "source": [
    "`(b) The probability of rain in the next 10 days`"
   ]
  },
  {
   "cell_type": "code",
   "execution_count": 47,
   "metadata": {},
   "outputs": [
    {
     "name": "stdout",
     "output_type": "stream",
     "text": [
      "The probability of rain in the next 10 days is: [1]\n"
     ]
    }
   ],
   "source": [
    "# Simulating the outcome for the next 10 days\n",
    "next_10_days_rain = np.random.binomial(10, prob_rain, 1)\n",
    "print(f\"The probability of rain in the next 10 days is: {next_10_days_rain}\")"
   ]
  },
  {
   "attachments": {},
   "cell_type": "markdown",
   "metadata": {},
   "source": [
    "`(c) The probability of rain in the next 100, 10,000, 1,000,000 days`"
   ]
  },
  {
   "cell_type": "code",
   "execution_count": 50,
   "metadata": {},
   "outputs": [
    {
     "name": "stdout",
     "output_type": "stream",
     "text": [
      "The probability of rain in the next 100 days is: 0.24\n",
      "The probability of rain in the next 10,000 days is: 0.30\n",
      "The probability of rain in the next 1,000,000 days is: 0.30\n"
     ]
    }
   ],
   "source": [
    "# Simulating the outcome for the next 100 days\n",
    "next_100_days_rain = np.round(np.random.binomial(100, prob_rain) / 100, 2)\n",
    "print(f\"The probability of rain in the next 100 days is: {next_100_days_rain:.2f}\")\n",
    "# Simulating the outcome for the next 10,000 days\n",
    "next_10000_days_rain = np.round(np.random.binomial(10000, prob_rain) / 10000, 2)\n",
    "print(f\"The probability of rain in the next 10,000 days is: {next_10000_days_rain:.2f}\")\n",
    "# Simulating the outcome for the next 1,000,000 days\n",
    "next_1000000_days_rain = np.round(np.random.binomial(1000000, prob_rain) / 1000000, 2)\n",
    "print(f\"The probability of rain in the next 1,000,000 days is: {next_1000000_days_rain:.2f}\")"
   ]
  },
  {
   "attachments": {},
   "cell_type": "markdown",
   "metadata": {},
   "source": [
    "## Problem # 2.2."
   ]
  },
  {
   "attachments": {},
   "cell_type": "markdown",
   "metadata": {},
   "source": [
    "Data analysts often implement statistical inference methods by setting the probability of a\n",
    "correct inference equal to 0.95. Let *A* denote the event that an inference for the population\n",
    "about men is correct. Let *B* represent the event of a corresponding inference about women\n",
    "being correct. Suppose that these are independent events.\n"
   ]
  },
  {
   "attachments": {},
   "cell_type": "markdown",
   "metadata": {},
   "source": [
    "(a) Find the probability that (i) *both* inferences are correct, (ii) *neither* inference is correct.  \n",
    "(b) Construct the probability distribution for *Y* = number of correct inferences.  \n",
    "(c) With what probability would each inference need to be correct in order for the probability to be 0.95 that *both* are correct?"
   ]
  },
  {
   "attachments": {},
   "cell_type": "markdown",
   "metadata": {},
   "source": [
    "`(a) Probability that (i) both inferences are correct, (ii) neither inference is correct.`"
   ]
  },
  {
   "cell_type": "code",
   "execution_count": 72,
   "metadata": {},
   "outputs": [
    {
     "name": "stdout",
     "output_type": "stream",
     "text": [
      "(i) The probability that both inferences are correct is: 0.9025\n",
      "(ii) The probability that neither inference is correct is: 0.0025\n"
     ]
    }
   ],
   "source": [
    "import numpy as np\n",
    "\n",
    "# Given probability of correct inference\n",
    "p = 0.95\n",
    "\n",
    "# Calculating the probability that both inferences are correct can be found by multiplying the probability of each inference being correct\n",
    "prob_both_correct = p * p\n",
    "print(f\"(i) The probability that both inferences are correct is: {prob_both_correct:.4f}\")\n",
    "\n",
    "# Calculating the probability that neither inference is correct can be found by multiplying the probability of each inference not being correct\n",
    "prob_neither_correct = (1 - p) * (1 - p)\n",
    "print(f\"(ii) The probability that neither inference is correct is: {prob_neither_correct:.4f}\")"
   ]
  },
  {
   "attachments": {},
   "cell_type": "markdown",
   "metadata": {},
   "source": [
    "`(b) Probability distribution for Y (number of correct inferences)`"
   ]
  },
  {
   "cell_type": "code",
   "execution_count": 74,
   "metadata": {},
   "outputs": [
    {
     "name": "stdout",
     "output_type": "stream",
     "text": [
      "\n",
      "(b) Probability distribution for Y:\n",
      "    P(Y = 0) = 0.0025\n",
      "    P(Y = 1) = 0.0950\n",
      "    P(Y = 2) = 0.9025\n"
     ]
    }
   ],
   "source": [
    "# Creating a list of y values \n",
    "y_values = [0, 1, 2]\n",
    "# Creating a list of probabilities for each y value\n",
    "probabilities = [prob_neither_correct, 2 * p * (1 - p), prob_both_correct]\n",
    "\n",
    "print(\"\\n(b) Probability distribution for Y:\")\n",
    "for y, prob in zip(y_values, probabilities):\n",
    "    print(f\"    P(Y = {y}) = {prob:.4f}\")\n"
   ]
  },
  {
   "attachments": {},
   "cell_type": "markdown",
   "metadata": {},
   "source": [
    "`(c) Required probability for both to be correct with 0.95 probability`"
   ]
  },
  {
   "cell_type": "code",
   "execution_count": 73,
   "metadata": {},
   "outputs": [
    {
     "name": "stdout",
     "output_type": "stream",
     "text": [
      "Required probability for each inference: 0.9747\n"
     ]
    }
   ],
   "source": [
    "# Required probability for each inference to be correct with 0.95 probability can be found by taking the square root of 0.95\n",
    "p_required = np.sqrt(0.95)\n",
    "print(f\"Required probability for each inference: {p_required:.4f}\")"
   ]
  },
  {
   "attachments": {},
   "cell_type": "markdown",
   "metadata": {},
   "source": [
    "## Problem # 2.4."
   ]
  },
  {
   "attachments": {},
   "cell_type": "markdown",
   "metadata": {},
   "source": [
    "A wine connoisseur is asked to match five glasses of red wine with the bottles from which they\n",
    "came, representing five different grape types.\n"
   ]
  },
  {
   "attachments": {},
   "cell_type": "markdown",
   "metadata": {},
   "source": [
    "(a) Set up a sample space for the five guesses.  \n",
    "(b) With random guessing, find the probability of getting all five correct."
   ]
  },
  {
   "attachments": {},
   "cell_type": "markdown",
   "metadata": {},
   "source": [
    "`(a) Setting up a sample space for the five guesses`"
   ]
  },
  {
   "cell_type": "markdown",
   "metadata": {},
   "source": [
    "The sample space is all possible permutations of 5 wines.\n",
    "\n",
    "There are 5! (5 factorial) possible arrangements = 5 * 4 * 3 * 2 * 1 = 120"
   ]
  },
  {
   "attachments": {},
   "cell_type": "markdown",
   "metadata": {},
   "source": [
    "`(b) Finding the probability of getting all five correct with random guessing`"
   ]
  },
  {
   "cell_type": "code",
   "execution_count": 95,
   "metadata": {},
   "outputs": [
    {
     "name": "stdout",
     "output_type": "stream",
     "text": [
      "The probability of getting all five correct with random guessing is: 0.0083\n",
      "This is equivalent to 0.83% or 1 in 120 chance\n"
     ]
    }
   ],
   "source": [
    "# Total number of possible arrangements\n",
    "total_outcomes = 120  \n",
    "\n",
    "# There are 5 wines, and each must be correctly matched to its bottle.\n",
    "# The first wine must be in position 1, the second in position 2, and so on.\n",
    "# Any deviation from this single correct arrangement results in an incorrect guess.\n",
    "# So, only one arrangement is correct (all wines matched perfectly)\n",
    "correct_outcome = 1   \n",
    "\n",
    "# Calculating the probability of getting all five correct\n",
    "probability_all_correct = correct_outcome / total_outcomes\n",
    "\n",
    "print(f\"The probability of getting all five correct with random guessing is: {probability_all_correct:.4f}\")\n",
    "print(f\"This is equivalent to {probability_all_correct * 100:.2f}% or 1 in {total_outcomes} chance\")"
   ]
  },
  {
   "attachments": {},
   "cell_type": "markdown",
   "metadata": {},
   "source": [
    "## Problem # 2.15."
   ]
  },
  {
   "attachments": {},
   "cell_type": "markdown",
   "metadata": {},
   "source": [
    "Each week an insurance company records *Y* = number of payments because of a home burning\n",
    "down. State conditions under which we would expect *Y* to approximately have a Poisson\n",
    "distribution.\n"
   ]
  },
  {
   "attachments": {},
   "cell_type": "markdown",
   "metadata": {},
   "source": [
    "`Answer`"
   ]
  },
  {
   "attachments": {},
   "cell_type": "markdown",
   "metadata": {},
   "source": [
    "In Poisson distribution the following conditions should exist:\n",
    "\n",
    "  1. Events are independent\n",
    "\n",
    "  2. The average rate of occurrence is constant\n",
    "\n",
    "  3. Two events cannot occur at exactly the same instant\n",
    "  \n",
    "  4. The probability of an event is proportional to the length of the interval\n",
    "\n",
    "Based on the above, the number of payments for homes burning down (Y) would approximately follow a Poisson distribution under these conditions:\n",
    "\n",
    "1. Independence: Each event (home burning down) occurs independently of others.\n",
    "\n",
    "2. Constant rate: The average rate of occurrences remains constant over the time period.\n",
    "\n",
    "3. Rare events: The probability of a home burning down is small for any given short time interval.\n",
    "\n",
    "4. Non-overlapping: Two events cannot occur simultaneously.\n",
    "\n",
    "5. Well-defined time period: The time frame (one week) is clearly specified.\n",
    "\n"
   ]
  },
  {
   "attachments": {},
   "cell_type": "markdown",
   "metadata": {},
   "source": [
    "## Problem # 2.16."
   ]
  },
  {
   "attachments": {},
   "cell_type": "markdown",
   "metadata": {},
   "source": [
    "Each day a hospital records the number of people who come to the emergency room for treatment."
   ]
  },
  {
   "attachments": {},
   "cell_type": "markdown",
   "metadata": {},
   "source": [
    "(a)  In the first week, the observations from Sunday to Saturday are 10, 8, 14, 7, 21, 44, 60.\n",
    "Do you think that the Poisson distribution might describe the random variability of this\n",
    "phenomenon adequately. Why or why not?  \n",
    "(b) Would you expect the Poisson distribution to better describe, or more poorly describe,\n",
    "the number of weekly admissions to the hospital for a rare disease? Why?"
   ]
  },
  {
   "attachments": {},
   "cell_type": "markdown",
   "metadata": {},
   "source": [
    "`(a) Your answer goes here`"
   ]
  },
  {
   "cell_type": "code",
   "execution_count": null,
   "metadata": {},
   "outputs": [],
   "source": []
  },
  {
   "attachments": {},
   "cell_type": "markdown",
   "metadata": {},
   "source": [
    "`(b) Your answer goes here`"
   ]
  },
  {
   "cell_type": "code",
   "execution_count": null,
   "metadata": {},
   "outputs": [],
   "source": []
  },
  {
   "attachments": {},
   "cell_type": "markdown",
   "metadata": {},
   "source": [
    "## Problem # 2.17."
   ]
  },
  {
   "attachments": {},
   "cell_type": "markdown",
   "metadata": {},
   "source": [
    "An instructor gives a course grade of B to students who have total score on exams and homeworks between 800 and 900, where the maximum possible is 1000. If the total scores have\n",
    "approximately a normal distribution with mean 830 and standard deviation 50, about what proportion of the students receive a B?\n"
   ]
  },
  {
   "attachments": {},
   "cell_type": "markdown",
   "metadata": {},
   "source": [
    "`Your answer goes here`"
   ]
  },
  {
   "cell_type": "code",
   "execution_count": null,
   "metadata": {},
   "outputs": [],
   "source": []
  },
  {
   "attachments": {},
   "cell_type": "markdown",
   "metadata": {},
   "source": [
    "## Problem # 2.20."
   ]
  },
  {
   "attachments": {},
   "cell_type": "markdown",
   "metadata": {},
   "source": [
    "Create a data file with the income values in the `Income` data file at the text website."
   ]
  },
  {
   "attachments": {},
   "cell_type": "markdown",
   "metadata": {},
   "source": [
    "(a) Construct a histogram or a smooth-curve approximation for the *pdf* of income in the\n",
    "corresponding population by plotting results using the density function in R (explained\n",
    "in Exercise 1.18).  \n",
    "(b)  Of the probability distributions studied in this chapter, which do you think might be\n",
    "most appropriate for these data? Why? Plot the probability function of that distribution\n",
    "having the same mean and standard deviation as the income values. Does it seem to\n",
    "describe the income distribution well?\n"
   ]
  },
  {
   "attachments": {},
   "cell_type": "markdown",
   "metadata": {},
   "source": [
    "`(a) Your answer goes here`"
   ]
  },
  {
   "cell_type": "code",
   "execution_count": null,
   "metadata": {},
   "outputs": [],
   "source": []
  },
  {
   "attachments": {},
   "cell_type": "markdown",
   "metadata": {},
   "source": [
    "`(b) Your answer goes here`"
   ]
  },
  {
   "cell_type": "code",
   "execution_count": null,
   "metadata": {},
   "outputs": [],
   "source": []
  },
  {
   "attachments": {},
   "cell_type": "markdown",
   "metadata": {},
   "source": [
    "## Problem # 2.21."
   ]
  },
  {
   "attachments": {},
   "cell_type": "markdown",
   "metadata": {},
   "source": [
    "Plot the gamma distribution by fixing the shape parameter *k* = 3 and setting the scale parameter\n",
    "= 0.5, 1, 2, 3, 4, 5. What is the effect of increasing the scale parameter? (See also Exercise 2.48.)"
   ]
  },
  {
   "attachments": {},
   "cell_type": "markdown",
   "metadata": {},
   "source": [
    "`Your answer goes here`"
   ]
  },
  {
   "cell_type": "code",
   "execution_count": null,
   "metadata": {},
   "outputs": [],
   "source": []
  },
  {
   "attachments": {},
   "cell_type": "markdown",
   "metadata": {},
   "source": [
    "## Problem # 2.22."
   ]
  },
  {
   "attachments": {},
   "cell_type": "markdown",
   "metadata": {},
   "source": [
    "Consider the mammogram diagnostic example in Section 2.1.4."
   ]
  },
  {
   "attachments": {},
   "cell_type": "markdown",
   "metadata": {},
   "source": [
    "(a) Show that the joint probability distribution of diagnosis and disease status is as shown in\n",
    "Table 2.6. Given that a diagnostic test result is positive, explain how this joint distribution\n",
    "shows that the 12% of incorrect diagnoses for the 99% of women not having breast cancer\n",
    "swamp the 86% of correct diagnoses for the 1% of women actually having breast cancer.  \n",
    "(b) The first test for detecting HIV-positive status had a sensitivity of 0.999 and specificity\n",
    "of 0.9999. Explain what these mean. If at that time 1 in 10,000 men were truly HIVpositive, find the positive predictive value. Based on this example, explain the potential\n",
    "disadvantage of routine diagnostic screening of a population for a rare disease.\n",
    "\n",
    "**TABLE 2.6** Joint probability distribution for disease status and diagnosis of breast cancer\n",
    "mammogram, based on conditional probabilities in Table 2.1\n",
    "\n",
    "| **Disease Status** | **Diagnosis from Mammogram** |              |           |\n",
    "|--------------------|------------------------------|--------------|-----------|\n",
    "|                    | Positive (+)                 | Negative (-) | **Total** |\n",
    "| Yes (D)            | 0.0086                       | 0.0014       | 0.01      |\n",
    "| No ($D^c$)         | 0.1188                       | 0.8712       | 0.99      |"
   ]
  },
  {
   "attachments": {},
   "cell_type": "markdown",
   "metadata": {},
   "source": [
    "`Your answer goes here`"
   ]
  },
  {
   "cell_type": "code",
   "execution_count": null,
   "metadata": {},
   "outputs": [],
   "source": []
  },
  {
   "attachments": {},
   "cell_type": "markdown",
   "metadata": {},
   "source": [
    "## Problem # 2.27."
   ]
  },
  {
   "attachments": {},
   "cell_type": "markdown",
   "metadata": {},
   "source": [
    "The distribution of *X* = heights *(cm)* of women in the U.K. is approximately *N*(162, $7^2$).\n",
    "Conditional on *X = x*, suppose *Y* = weight *(kg)* has a *N*(3.0 + 0.40x, $8^2$) distribution. Simulate\n",
    "and plot 1000 observations from this approximate bivariate normal distribution. Approximate\n",
    "the marginal means and standard deviations for *X* and *Y*. Approximate and interpret the\n",
    "correlation.\n"
   ]
  },
  {
   "attachments": {},
   "cell_type": "markdown",
   "metadata": {},
   "source": [
    "`Your answer goes here`"
   ]
  },
  {
   "cell_type": "code",
   "execution_count": null,
   "metadata": {},
   "outputs": [],
   "source": []
  }
 ],
 "metadata": {
  "kernelspec": {
   "display_name": "Python 3",
   "language": "python",
   "name": "python3"
  },
  "language_info": {
   "codemirror_mode": {
    "name": "ipython",
    "version": 3
   },
   "file_extension": ".py",
   "mimetype": "text/x-python",
   "name": "python",
   "nbconvert_exporter": "python",
   "pygments_lexer": "ipython3",
   "version": "3.12.5"
  }
 },
 "nbformat": 4,
 "nbformat_minor": 4
}
